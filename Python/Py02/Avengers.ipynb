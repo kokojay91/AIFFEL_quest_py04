{
  "cells": [
    {
      "cell_type": "markdown",
      "metadata": {
        "id": "view-in-github",
        "colab_type": "text"
      },
      "source": [
        "<a href=\"https://colab.research.google.com/github/newmno4967/AIFFEL_quest_cr/blob/master/Python/Py02/Avengers.ipynb\" target=\"_parent\"><img src=\"https://colab.research.google.com/assets/colab-badge.svg\" alt=\"Open In Colab\"/></a>"
      ]
    },
    {
      "cell_type": "code",
      "execution_count": 66,
      "metadata": {
        "id": "6ZzOkJtsYNsY"
      },
      "outputs": [],
      "source": [
        "# Google Drive에서 파일 읽기\n",
        "with open('/content/drive/MyDrive/Avengers.txt', 'r') as f:\n",
        "    avenrers = f.read()\n"
      ]
    },
    {
      "cell_type": "code",
      "execution_count": 69,
      "metadata": {
        "colab": {
          "base_uri": "https://localhost:8080/"
        },
        "id": "AmPBli0ndflQ",
        "outputId": "b722632b-c269-4c7f-b5a8-d53d8f4cce30"
      },
      "outputs": [
        {
          "output_type": "stream",
          "name": "stdout",
          "text": [
            "you\n",
            "0\n"
          ]
        }
      ],
      "source": [
        "# txt파일에서 특수문자 지우기, 소문자로 만들기\n",
        "def preprocessing(text):\n",
        "    a = []\n",
        "    text = text.replace(\"'\", \"\")\n",
        "    text = text.replace(\"-\", \"\")\n",
        "    text = text.replace(\".\", \"\")\n",
        "    text = text.lower()\n",
        "    text = text.split()\n",
        "    for i in range(len(text)):\n",
        "        a.append(text[i].strip(\"!@~.,'?-:*$(\"))\n",
        "    return a\n",
        "\n",
        "avenrers_list = preprocessing(avenrers) # avenrers_list변수에 list형식으로 txt파일 저장\n",
        "word_overlap = list(set(avenrers_list)) # word_overlap변수의 중복값 제거\n",
        "word_count = {} # 빈도수를 저장할 딕셔너리 파일 생성\n",
        "word_ranking = {} # 빈도수 별로 정렬할 딕셔너리 파일 생성\n",
        "search = \"\" # 사용자한테 입력받을 변수\n",
        "\n",
        "# word_count에 빈도수를 딕셔너리 파일로 받기\n",
        "for i in range(len(word_overlap)):\n",
        "    word_count[word_overlap[i]] = avenrers_list.count(word_overlap[i])\n",
        "\n",
        "# word_ranking에 빈도수 크기로 내림차순 정렬\n",
        "word_ranking = dict(sorted(word_count.items(), key=lambda x: x[1], reverse=True))\n",
        "\n",
        "# word_ranking에 정렬순서로 벨류값에 0부터 정수입력\n",
        "word_ranking = {key : index for index, key in enumerate(word_ranking)}\n",
        "# 틀린코드 word_ranking = {key : index for index, (key, value) in enumerate(word_ranking)}\n",
        "# gpt에게 물어보고 상황에 맞게 수정함\n",
        "\n",
        "search = input() # 사용자에게 검색할 단어받기\n",
        "\n",
        "#검색한 단어의 빈도수 순위 출력\n",
        "if search in word_ranking:\n",
        "    print(word_ranking[search])\n",
        "else:\n",
        "    print('해당 단어가 존재하지 않습니다')\n",
        "\n",
        "# 회고 김민상:코드를 짜면서 딕셔너리에 대해 많은걸 알수있었다. 앞으로도 딕셔너리를 활용할 일이 있으면 이 경험이 많은 도움이 될수있을것 같다.\n",
        "# 회고 이지선: 모르는 부분이 많아 도움을 드리지 못한거 같다. 좀더 분발해야 함을 느꼈다."
      ]
    },
    {
      "cell_type": "code",
      "source": [],
      "metadata": {
        "id": "R6SeWXLLL4ZO"
      },
      "execution_count": null,
      "outputs": []
    }
  ],
  "metadata": {
    "colab": {
      "provenance": [],
      "include_colab_link": true
    },
    "kernelspec": {
      "display_name": "Python 3",
      "name": "python3"
    },
    "language_info": {
      "name": "python"
    }
  },
  "nbformat": 4,
  "nbformat_minor": 0
}