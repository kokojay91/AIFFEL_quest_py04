{
  "nbformat": 4,
  "nbformat_minor": 0,
  "metadata": {
    "colab": {
      "provenance": [],
      "include_colab_link": true
    },
    "kernelspec": {
      "name": "python3",
      "display_name": "Python 3"
    },
    "language_info": {
      "name": "python"
    }
  },
  "cells": [
    {
      "cell_type": "markdown",
      "metadata": {
        "id": "view-in-github",
        "colab_type": "text"
      },
      "source": [
        "<a href=\"https://colab.research.google.com/github/newmno4967/AIFFEL_quest_cr/blob/master/Python/Py03/Untitled3.ipynb\" target=\"_parent\"><img src=\"https://colab.research.google.com/assets/colab-badge.svg\" alt=\"Open In Colab\"/></a>"
      ]
    },
    {
      "cell_type": "code",
      "execution_count": 38,
      "metadata": {
        "id": "oSM2AJ4u_zv0"
      },
      "outputs": [],
      "source": [
        "def find_min_max(numbers):\n",
        "    # min_value와 max_value 변수를 초기화\n",
        "    min_value = []\n",
        "    max_value = []\n",
        "    # min_value는 양의 무한대(float('inf'))로 초기화하여 어떤 숫자보다도 큰 값으로 설정\n",
        "    min_value = float('inf')\n",
        "    # max_value는 음의 무한대(float('-inf'))로 초기화하여 어떤 숫자보다도 작은 값으로 설정\n",
        "    max_value = float('-inf')\n",
        "\n",
        "    def update_min_max(num):\n",
        "        # 외부함수의 변수인 min_value, max_value 참조\n",
        "        nonlocal min_value, max_value\n",
        "        # 만약 num 값이 min_value보다 작다면 min_value를 num 값으로 변경\n",
        "        if num<min_value:\n",
        "            min_value = num\n",
        "        # 만약 num 값이 max_value보다 크다면 max_value를 num 값으로 변경\n",
        "        elif num>max_value:\n",
        "            max_value = num\n",
        "\n",
        "    # numbers 리스트의 모든 값을 순환하며 최댓값과 최솟값 업데이트\n",
        "    for num in numbers:\n",
        "        update_min_max(num)\n",
        "\n",
        "    # 최솟값을 반환하는 내부함수\n",
        "    def get_min():\n",
        "        return min_value\n",
        "\n",
        "    # 최댓값을 반환하는 내부함수\n",
        "    def get_max():\n",
        "        return max_value\n",
        "\n",
        "    # 외부함수는 내부함수(get_min()과 get_max())를 반환\n",
        "    return get_min, get_max"
      ]
    },
    {
      "cell_type": "code",
      "source": [
        "numbers = [10, 5, 8, 12, 3, 7]\n",
        "find_min, find_max = find_min_max(numbers)\n",
        "\n",
        "print(\"최솟값:\", find_min())\n",
        "print(\"최댓값:\", find_max())"
      ],
      "metadata": {
        "colab": {
          "base_uri": "https://localhost:8080/"
        },
        "id": "xU2TKpMrCxou",
        "outputId": "1edf7f98-709a-4ff6-8c5d-b19f66e9b41b"
      },
      "execution_count": 43,
      "outputs": [
        {
          "output_type": "stream",
          "name": "stdout",
          "text": [
            "최솟값: 3\n",
            "최댓값: 12\n"
          ]
        }
      ]
    },
    {
      "cell_type": "code",
      "source": [
        "# 데코레이터생성후 실행:(counter() takes 0 positional arguments but 1 was given)오류 발생\n",
        "# fn변수를 추가하여 재실행 후 오류해결\n",
        "def counter(fn):\n",
        "    count = 0       # 실행 횟수를 기록할 변수만들기 및 초기화\n",
        "    def counter2():\n",
        "        nonlocal count\n",
        "        count += 1 # 카운트 횟수 저장\n",
        "        fn()\n",
        "        print(fn.__name__, \"실행횟수 :\", count) # 함수 이름 및 실행횟수 출력\n",
        "    return counter2\n",
        "\n",
        "@counter\n",
        "def say_hello():\n",
        "    print(\"Hello Aiffel!\")\n",
        "\n",
        "for i in range(5):\n",
        "    say_hello()"
      ],
      "metadata": {
        "colab": {
          "base_uri": "https://localhost:8080/"
        },
        "id": "MEf8Q2b0EQWf",
        "outputId": "c4a988a9-91a1-46cd-d60f-ed9953958349"
      },
      "execution_count": 42,
      "outputs": [
        {
          "output_type": "stream",
          "name": "stdout",
          "text": [
            "Hello Aiffel!\n",
            "say_hello 실행횟수 : 1\n",
            "Hello Aiffel!\n",
            "say_hello 실행횟수 : 2\n",
            "Hello Aiffel!\n",
            "say_hello 실행횟수 : 3\n",
            "Hello Aiffel!\n",
            "say_hello 실행횟수 : 4\n",
            "Hello Aiffel!\n",
            "say_hello 실행횟수 : 5\n"
          ]
        }
      ]
    },
    {
      "cell_type": "markdown",
      "source": [
        "#**회고**\n",
        "\n"
      ],
      "metadata": {
        "id": "llJD8eWpPdmy"
      }
    },
    {
      "cell_type": "markdown",
      "source": [
        "최유진: 첫 번째 문제는 보기가 주어져서 빨리 풀 수 있었는데 두 번째 데코레이터 퀘스트는 어려웠다. 3주차인데 아직도 헷갈리는게 많아서 걱정이다 언제쯤 익숙해질까....? 🥲 민상님 감사합니다...."
      ],
      "metadata": {
        "id": "siams57ySpXo"
      }
    },
    {
      "cell_type": "markdown",
      "source": [
        "김민상: 첫번째 코드는 보기를 보고 할일을 찾기 쉬웠지만 두번째코드를 짜면서 다 이해했다고 생각한 데코레이터가 마음대로 실행이 되지 않아서 찾아보고 수정하며 데코레이터와 클로저에 대하여 다시한번 이해할수있는 시간이었습니다."
      ],
      "metadata": {
        "id": "Q8iARHYTUshR"
      }
    }
  ]
}