{
  "nbformat": 4,
  "nbformat_minor": 0,
  "metadata": {
    "colab": {
      "provenance": [],
      "include_colab_link": true
    },
    "kernelspec": {
      "name": "python3",
      "display_name": "Python 3"
    },
    "language_info": {
      "name": "python"
    }
  },
  "cells": [
    {
      "cell_type": "markdown",
      "metadata": {
        "id": "view-in-github",
        "colab_type": "text"
      },
      "source": [
        "<a href=\"https://colab.research.google.com/github/newmno4967/AIFFEL_quest_cr/blob/master/Python/Py04/Quest4.ipynb\" target=\"_parent\"><img src=\"https://colab.research.google.com/assets/colab-badge.svg\" alt=\"Open In Colab\"/></a>"
      ]
    },
    {
      "cell_type": "code",
      "execution_count": null,
      "metadata": {
        "colab": {
          "base_uri": "https://localhost:8080/"
        },
        "id": "B4EE3oB9Iqzs",
        "outputId": "926b6873-2875-4cb8-bd9a-8b1e60bdd962"
      },
      "outputs": [
        {
          "name": "stdout",
          "output_type": "stream",
          "text": [
            "두개의 정수를 입력하십시오: 1 2\n",
            "연산자를 입력하십시오: *\n",
            "2.0\n",
            "다시 시작:y n\n"
          ]
        }
      ],
      "source": [
        "from math import pow # math모듈에서 pow만 불러오기\n",
        "\n",
        "Integer = [] # 정수와 연산자를 입력받을 변수생성\n",
        "y = 0 # 다시 시작할지 물어보는 변수\n",
        "\n",
        "def user_input():\n",
        "    try:\n",
        "        Integer = list(map(float, input('두개의 정수를 입력하십시오: ').split())) # Integer변수 초기화 및 두개의 정수 입력받기\n",
        "        Integer.append(input('연산자를 입력하십시오: ')) # Integer변수에 연산자 입력받기\n",
        "        if Integer[2] not in [\"+\", \"-\", \"*\", \"/\", \"**\"]: # 연산자가 지정된 연산자인지 확인\n",
        "            raise ValueError() # 지정된 연산자가 아니면 ValueError발생\n",
        "        if Integer[2] == '/':\n",
        "            if Integer[1] ==0:\n",
        "                raise ZeroDivisionError() # 나누는 수가 0일때 ZeroDivisionError발생\n",
        "    except ValueError:\n",
        "        print('잘못된 입력입니다. 정수나 연산자를 입력해주세요')\n",
        "        user_input() # 다시실행\n",
        "    except ZeroDivisionError:\n",
        "        print('0으로 나눌수 없습니다.')\n",
        "        user_input() # 다시실행\n",
        "    else:\n",
        "        print(calculator(*Integer)) #결과값 출력(*을 넣지 않아서 계산기 함수에서 변수입력을 받지 못하였는데 언패킹후 정상 작동)\n",
        "        y = input('다시 시작:y ')\n",
        "        if y == 'y':\n",
        "            user_input() # y를 입력받아 다시실행\n",
        "\n",
        "# 계산기\n",
        "def calculator(i, j, k):\n",
        "    if k == '+':\n",
        "        return i+j\n",
        "    elif k == '-':\n",
        "        return i-j\n",
        "    elif k == '*':\n",
        "        return i*j\n",
        "    elif k == '/':\n",
        "        return i/j\n",
        "    else:\n",
        "        return pow(i,j)\n",
        "\n",
        "\n",
        "user_input() # 첫번째 함수 실행"
      ]
    },
    {
      "cell_type": "markdown",
      "source": [
        "# 회고"
      ],
      "metadata": {
        "id": "9CmPkUhAfWw-"
      }
    },
    {
      "cell_type": "markdown",
      "source": [
        "김민상: 이번 미션을 진행하며 예외처리를 하는 방법에 대해 정확하게 알게된것 같다. 언패킹에 대하서도 앞으로는 비슷한 일이 있으면 제대로 사용할수 있게 배우는 좋은 시간이었다"
      ],
      "metadata": {
        "id": "vUfbDXYhfZ9p"
      }
    },
    {
      "cell_type": "markdown",
      "source": [
        "##박종호\n",
        "우선 처음 문제를 접했을때 뭘해야될지 막막했는데 민상님이 쭉쭉 적어내려가셔서 신기했다.\n",
        "\n",
        "어제 노드를 공부할때 raise가 왜 필요한지 이해가 안갔는데 두가지 에러를 한 함수에 넣을려구 할때 필요하단것을 알게 되었다\n",
        "\n",
        "함수를 공부하면서 항상 ()안에 무언가가 들어갈때와 안들어갈때 헷갈렸는데 오늘 조금더 이해를 한거 같다.\n",
        "\n"
      ],
      "metadata": {
        "id": "R3-dIiHjfaUQ"
      }
    }
  ]
}