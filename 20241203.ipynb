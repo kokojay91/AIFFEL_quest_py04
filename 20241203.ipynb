{
  "nbformat": 4,
  "nbformat_minor": 0,
  "metadata": {
    "colab": {
      "private_outputs": true,
      "provenance": [],
      "include_colab_link": true
    },
    "kernelspec": {
      "name": "python3",
      "display_name": "Python 3"
    },
    "language_info": {
      "name": "python"
    }
  },
  "cells": [
    {
      "cell_type": "markdown",
      "metadata": {
        "id": "view-in-github",
        "colab_type": "text"
      },
      "source": [
        "<a href=\"https://colab.research.google.com/github/newmno4967/AIFFEL_quest_cr/blob/master/20241203.ipynb\" target=\"_parent\"><img src=\"https://colab.research.google.com/assets/colab-badge.svg\" alt=\"Open In Colab\"/></a>"
      ]
    },
    {
      "cell_type": "code",
      "execution_count": null,
      "metadata": {
        "id": "B1j64DGmEQ8X"
      },
      "outputs": [],
      "source": [
        "# 문자를 입력 받을 변수\n",
        "text = 0\n",
        "# 정방향 문자열을 입력받을 리스트\n",
        "word_list = []\n",
        "# 역방향 문자열을 입력받을 리스트\n",
        "reversed_word_list = []\n",
        "\n",
        "\n",
        "# word_list와 reversed_word_list에 list형태로 문자를 넣고 비교하는 함수\n",
        "def palindrome(word):\n",
        "    global word_list, reversed_word_list # word_list, reversed_word_list가 프로그램 전채에 영향을 미치게함\n",
        "    word_list = list(word) # word_list에 정방향으로 문자를 넣는 과정\n",
        "    reversed_word_list = list(word)[::-1] # reversed_word_list에 역방향으로 문자를 넣는 과정\n",
        "\n",
        "\n",
        "text = input() # text변수에 문자열 입력받기\n",
        "palindrome(text) # 함수 실행\n",
        "\n",
        "# 입력받은 단어로 회문 판별\n",
        "if word_list == reversed_word_list:\n",
        "    print(\"입력하신 단어\", text, \"는 회문입니다.\")\n",
        "else:\n",
        "    print(\"입력하신 단어\", text, \"는 회문이 아닙니다.\")\n",
        "\n"
      ]
    },
    {
      "cell_type": "code",
      "source": [
        "def palindrome(word):\n",
        "    return word == word[::-1] #뒤집었을때 true인지 false인지 반환\n",
        "\n",
        "\n",
        "\n",
        "text = input(\"단어를 입력하세요 : \") #단어 입력받기\n",
        "\n",
        "if palindrome(text):\n",
        "    print(\"회문입니다.\")\n",
        "\n",
        "else:\n",
        "    print(\"회문이 아닙니다.\")"
      ],
      "metadata": {
        "id": "ELGjoSAXOJke"
      },
      "execution_count": null,
      "outputs": []
    }
  ]
}